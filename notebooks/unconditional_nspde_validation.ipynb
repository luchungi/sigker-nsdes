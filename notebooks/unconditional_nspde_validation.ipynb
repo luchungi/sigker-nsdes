{
 "cells": [
  {
   "cell_type": "markdown",
   "metadata": {},
   "source": [
    "# NSPDE validation.\n"
   ]
  },
  {
   "cell_type": "code",
   "execution_count": 7,
   "metadata": {
    "pycharm": {
     "is_executing": true
    }
   },
   "outputs": [],
   "source": [
    "import json\n",
    "import numpy as np\n",
    "import torch\n",
    "from src.gan.generators_spde import Generator\n",
    "from src.gan.base import stopping_criterion\n",
    "import pandas as pd\n",
    "import seaborn as sns\n",
    "import matplotlib.pyplot as plt\n",
    "from scipy.stats import ks_2samp\n",
    "from scipy import stats as st\n",
    "from statsmodels.tsa.stattools import acf\n",
    "from src.evaluation import generate_ks_results_nspde\n",
    "from src.utils.helper_functions.global_helper_functions import get_project_root\n",
    "import matplotlib as mpl\n",
    "import scienceplots\n",
    "\n",
    "plt.style.use('science')\n",
    "mpl.rcParams['axes.titlesize'] = 24\n",
    "mpl.rcParams['xtick.labelsize'] = 18\n",
    "mpl.rcParams['ytick.labelsize'] = 18\n",
    "mpl.rcParams['axes.labelsize'] = 22"
   ]
  },
  {
   "cell_type": "code",
   "execution_count": 2,
   "metadata": {},
   "outputs": [],
   "source": [
    "is_cuda = torch.cuda.is_available()\n",
    "device = 'cuda' if is_cuda else 'cpu'\n",
    "if not is_cuda:\n",
    "    print(\"Warning: CUDA not available; falling back to CPU but this is likely to be very slow.\")"
   ]
  },
  {
   "cell_type": "code",
   "execution_count": 3,
   "metadata": {},
   "outputs": [],
   "source": [
    "def my_smooth_corr(x, a, r = 2):\n",
    "    my_eps=0.001\n",
    "    j = 1.*torch.arange(1,x.shape[0]+1).to(x.device)\n",
    "    j[-1] = 0.\n",
    "    q = j**(-(2*r+1+my_eps)/2)\n",
    "    q[-1]=0\n",
    "    res = torch.sqrt(q)*torch.sqrt(2. / a) * torch.sin(j * torch.pi * x / a)\n",
    "    return res"
   ]
  },
  {
   "cell_type": "code",
   "execution_count": 8,
   "metadata": {},
   "outputs": [],
   "source": [
    "data = np.load(get_project_root().as_posix() + '/data/lob_neurips.npy')\n",
    "data =  torch.tensor(data)\n",
    "\n",
    "dim_x = 20\n",
    "dim_t = 32\n",
    "output_dim = 1\n",
    "\n",
    "gridT = torch.linspace(0,1,dim_t).repeat(dim_x,1)\n",
    "gridX = torch.linspace(0,1,dim_x).unsqueeze(-1).repeat(1,dim_t)\n",
    "grid = torch.stack([gridX, gridT], dim=-1)"
   ]
  },
  {
   "cell_type": "code",
   "execution_count": 38,
   "metadata": {},
   "outputs": [
    {
     "name": "stdout",
     "output_type": "stream",
     "text": [
      "0.9666666666666667\n",
      "{'discriminator__dyadic_order': 1, 'discriminator__kernel_type': 'rbf_id', 'discriminator__max_batch': 32, 'discriminator__sigma': {'sigma': 10}, 'discriminator__transform': 'integrate', 'generator__dim': 1, 'generator__hidden_size': 16, 'generator__initial_noise_size': 1, 'generator__integration_method': 'fixed_point', 'generator__modes1': 20, 'generator__modes2': 20, 'generator__n_iter': 4, 'generator__noise_size': 2, 'generator__noise_type': 'white', 'generator__output_dim': 1, 'seed': 540769236, 'training__batch_size': 64, 'training__lr': 0.001, 'training__steps': 1500, 'training__wd': 0}\n",
      "{'discriminator__dyadic_order': 1, 'discriminator__kernel_type': 'rbf_id', 'discriminator__max_batch': 32, 'discriminator__sigma': {'sigma': 10}, 'discriminator__transform': 'integrate', 'generator__dim': 1, 'generator__hidden_size': 16, 'generator__initial_noise_size': 1, 'generator__integration_method': 'fixed_point', 'generator__modes1': 20, 'generator__modes2': 20, 'generator__n_iter': 4, 'generator__noise_size': 2, 'generator__noise_type': 'white', 'generator__output_dim': 1, 'seed': 540769236, 'training__batch_size': 64, 'training__lr': 0.001, 'training__steps': 1500, 'training__wd': 0}\n",
      "{'discriminator__dyadic_order': 1, 'discriminator__kernel_type': 'rbf_sqr', 'discriminator__max_batch': 32, 'discriminator__sigma': {'sigma1': 10, 'sigma2': 10}, 'discriminator__transform': 'integrate', 'generator__dim': 1, 'generator__hidden_size': 16, 'generator__initial_noise_size': 1, 'generator__integration_method': 'fixed_point', 'generator__modes1': 10, 'generator__modes2': 20, 'generator__n_iter': 4, 'generator__noise_size': 2, 'generator__noise_type': 'white', 'generator__output_dim': 1, 'seed': 452780310, 'training__batch_size': 64, 'training__lr': 0.001, 'training__steps': 1500, 'training__wd': 0}\n",
      "{'discriminator__dyadic_order': 1, 'discriminator__kernel_type': 'rbf_sqr', 'discriminator__max_batch': 32, 'discriminator__sigma': {'sigma1': 10, 'sigma2': 10}, 'discriminator__transform': 'integrate', 'generator__dim': 1, 'generator__hidden_size': 16, 'generator__initial_noise_size': 1, 'generator__integration_method': 'fixed_point', 'generator__modes1': 10, 'generator__modes2': 20, 'generator__n_iter': 4, 'generator__noise_size': 2, 'generator__noise_type': 'white', 'generator__output_dim': 1, 'seed': 452780310, 'training__batch_size': 64, 'training__lr': 0.001, 'training__steps': 1500, 'training__wd': 0}\n",
      "{'discriminator__dyadic_order': 1, 'discriminator__kernel_type': 'rbf_cexp', 'discriminator__max_batch': 32, 'discriminator__sigma': {'n_freqs': 5, 'sigma1': 1, 'sigma2': 1}, 'discriminator__transform': 'integrate', 'generator__dim': 1, 'generator__hidden_size': 32, 'generator__initial_noise_size': 1, 'generator__integration_method': 'fixed_point', 'generator__modes1': 10, 'generator__modes2': 20, 'generator__n_iter': 4, 'generator__noise_size': 2, 'generator__noise_type': 'white', 'generator__output_dim': 1, 'seed': 937496119, 'training__batch_size': 64, 'training__lr': 0.001, 'training__steps': 1500, 'training__wd': 0}\n",
      "{'discriminator__dyadic_order': 1, 'discriminator__kernel_type': 'rbf_cexp', 'discriminator__max_batch': 32, 'discriminator__sigma': {'n_freqs': 5, 'sigma1': 1, 'sigma2': 1}, 'discriminator__transform': 'integrate', 'generator__dim': 1, 'generator__hidden_size': 32, 'generator__initial_noise_size': 1, 'generator__integration_method': 'fixed_point', 'generator__modes1': 10, 'generator__modes2': 20, 'generator__n_iter': 4, 'generator__noise_size': 2, 'generator__noise_type': 'white', 'generator__output_dim': 1, 'seed': 937496119, 'training__batch_size': 64, 'training__lr': 0.001, 'training__steps': 1500, 'training__wd': 0}\n"
     ]
    }
   ],
   "source": [
    "discriminators = ['rbf_id/', 'rbf_sqr/', 'rbf_cexp/']\n",
    "\n",
    "base_path = \"../../scripts/results/\"\n",
    "\n",
    "eval_batch_size = 128\n",
    "dataloader = torch.utils.data.DataLoader(data, batch_size=eval_batch_size, shuffle=True)\n",
    "infinite_train_dataloader = (elem for it in iter(lambda: dataloader, None) for elem in it)\n",
    "\n",
    "marginals = tuple([i*1./30 for i in range(30)])\n",
    "alpha     = 0.95\n",
    "tol       = 1 - alpha\n",
    "n_runs    = 100\n",
    "print(marginals[-1])\n",
    "\n",
    "\n",
    "\n",
    "results_ks = []\n",
    "for dis, discriminator in enumerate(discriminators):\n",
    "    best_run_ks = 0\n",
    "    best_run_id = 0\n",
    "\n",
    "    for i in range(1,233):\n",
    "        file = base_path + discriminator + str(i) + \"/metrics.json\"\n",
    "        res = 0\n",
    "        try:\n",
    "            with open(file, 'r') as f:\n",
    "                res = json.load(f)[\"best_ks\"][\"values\"][0]\n",
    "        except:\n",
    "            pass\n",
    "        if res > best_run_ks and res<0.72:\n",
    "            best_run_ks = res\n",
    "            best_run_id = i\n",
    "    \n",
    "    file = base_path + discriminator + str(best_run_id) + \"/config.json\"\n",
    "    with open(file, 'r') as f:\n",
    "        config = json.load(f)\n",
    "        print(config)\n",
    "        # create correlation function for the noise in input to the generator\n",
    "        if config['generator__noise_type'][0] == 'r':\n",
    "            input_roughness = int(config['generator__noise_type'].split('_')[-1])\n",
    "            generator_correlation = lambda x,a : my_smooth_corr(x, a, r = input_roughness)\n",
    "            config['generator__noise_type'] = generator_correlation\n",
    "        else:\n",
    "            pass\n",
    "        print(config)\n",
    "        \n",
    "    generator = Generator(\n",
    "    dim=config['generator__dim'],\n",
    "    data_size=config['generator__output_dim'], \n",
    "    initial_noise_size=config['generator__initial_noise_size'],\n",
    "    noise_size=config['generator__noise_size'], \n",
    "    hidden_size=config['generator__hidden_size'], \n",
    "    initial_point='given',\n",
    "    noise_type=config['generator__noise_type'],\n",
    "    integration_method=config['generator__integration_method'],\n",
    "    modes1=config['generator__modes1'], \n",
    "    modes2=config['generator__modes2'],).cuda()\n",
    "\n",
    "    generator.load_state_dict(torch.load(base_path+discriminator+str(best_run_id)+'/generator_checkpoint.pt'))\n",
    "    \n",
    "    dims = dim_x\n",
    "    path_length = dim_t\n",
    "    generators = [generator]\n",
    "\n",
    "    mean_ks = np.zeros((len(generators), dims, len(marginals)))\n",
    "\n",
    "\n",
    "    total_ks_results = generate_ks_results_nspde(\n",
    "        grid.to(device), infinite_train_dataloader, generators, marginals, n_runs, dims=dims, eval_batch_size=eval_batch_size, device=device\n",
    "    )\n",
    "\n",
    "    for k in range(dims):\n",
    "        for i, m in enumerate(marginals):\n",
    "            for j, disc in enumerate(['ours']):\n",
    "\n",
    "                average_score  = np.mean(total_ks_results[j, :, k, i, 0])\n",
    "                std_score      = np.std(total_ks_results[j, :, k, i, 0])\n",
    "                percent_reject = sum(total_ks_results[j, :, k, i, 1] <= tol)/n_runs\n",
    "\n",
    "                mean_ks[j,k,i] = average_score\n",
    "\n",
    "                lci, hci = st.norm.interval(alpha, loc=average_score, scale=std_score)\n",
    "\n",
    "    results_ks.append(mean_ks[0])\n"
   ]
  },
  {
   "cell_type": "code",
   "execution_count": 9,
   "metadata": {},
   "outputs": [
    {
     "ename": "NameError",
     "evalue": "name 'config' is not defined",
     "output_type": "error",
     "traceback": [
      "\u001B[1;31m---------------------------------------------------------------------------\u001B[0m",
      "\u001B[1;31mNameError\u001B[0m                                 Traceback (most recent call last)",
      "Cell \u001B[1;32mIn[9], line 2\u001B[0m\n\u001B[0;32m      1\u001B[0m generator \u001B[38;5;241m=\u001B[39m Generator(\n\u001B[1;32m----> 2\u001B[0m dim\u001B[38;5;241m=\u001B[39m\u001B[43mconfig\u001B[49m[\u001B[38;5;124m'\u001B[39m\u001B[38;5;124mgenerator__dim\u001B[39m\u001B[38;5;124m'\u001B[39m],\n\u001B[0;32m      3\u001B[0m data_size\u001B[38;5;241m=\u001B[39mconfig[\u001B[38;5;124m'\u001B[39m\u001B[38;5;124mgenerator__output_dim\u001B[39m\u001B[38;5;124m'\u001B[39m], \n\u001B[0;32m      4\u001B[0m initial_noise_size\u001B[38;5;241m=\u001B[39mconfig[\u001B[38;5;124m'\u001B[39m\u001B[38;5;124mgenerator__initial_noise_size\u001B[39m\u001B[38;5;124m'\u001B[39m],\n\u001B[0;32m      5\u001B[0m noise_size\u001B[38;5;241m=\u001B[39mconfig[\u001B[38;5;124m'\u001B[39m\u001B[38;5;124mgenerator__noise_size\u001B[39m\u001B[38;5;124m'\u001B[39m], \n\u001B[0;32m      6\u001B[0m hidden_size\u001B[38;5;241m=\u001B[39mconfig[\u001B[38;5;124m'\u001B[39m\u001B[38;5;124mgenerator__hidden_size\u001B[39m\u001B[38;5;124m'\u001B[39m], \n\u001B[0;32m      7\u001B[0m initial_point\u001B[38;5;241m=\u001B[39m\u001B[38;5;124m'\u001B[39m\u001B[38;5;124mgiven\u001B[39m\u001B[38;5;124m'\u001B[39m,\n\u001B[0;32m      8\u001B[0m noise_type\u001B[38;5;241m=\u001B[39mconfig[\u001B[38;5;124m'\u001B[39m\u001B[38;5;124mgenerator__noise_type\u001B[39m\u001B[38;5;124m'\u001B[39m],\n\u001B[0;32m      9\u001B[0m integration_method\u001B[38;5;241m=\u001B[39mconfig[\u001B[38;5;124m'\u001B[39m\u001B[38;5;124mgenerator__integration_method\u001B[39m\u001B[38;5;124m'\u001B[39m],\n\u001B[0;32m     10\u001B[0m modes1\u001B[38;5;241m=\u001B[39mconfig[\u001B[38;5;124m'\u001B[39m\u001B[38;5;124mgenerator__modes1\u001B[39m\u001B[38;5;124m'\u001B[39m], \n\u001B[0;32m     11\u001B[0m modes2\u001B[38;5;241m=\u001B[39mconfig[\u001B[38;5;124m'\u001B[39m\u001B[38;5;124mgenerator__modes2\u001B[39m\u001B[38;5;124m'\u001B[39m],)\u001B[38;5;241m.\u001B[39mcuda()\n\u001B[0;32m     13\u001B[0m generator\u001B[38;5;241m.\u001B[39mload_state_dict(torch\u001B[38;5;241m.\u001B[39mload(base_path\u001B[38;5;241m+\u001B[39mdiscriminator\u001B[38;5;241m+\u001B[39m\u001B[38;5;28mstr\u001B[39m(best_run_id)\u001B[38;5;241m+\u001B[39m\u001B[38;5;124m'\u001B[39m\u001B[38;5;124m/generator_checkpoint.pt\u001B[39m\u001B[38;5;124m'\u001B[39m))\n",
      "\u001B[1;31mNameError\u001B[0m: name 'config' is not defined"
     ]
    }
   ],
   "source": [
    "    generator = Generator(\n",
    "    dim=config['generator__dim'],\n",
    "    data_size=config['generator__output_dim'], \n",
    "    initial_noise_size=config['generator__initial_noise_size'],\n",
    "    noise_size=config['generator__noise_size'], \n",
    "    hidden_size=config['generator__hidden_size'], \n",
    "    initial_point='given',\n",
    "    noise_type=config['generator__noise_type'],\n",
    "    integration_method=config['generator__integration_method'],\n",
    "    modes1=config['generator__modes1'], \n",
    "    modes2=config['generator__modes2'],).cuda()\n",
    "\n",
    "    generator.load_state_dict(torch.load(base_path+discriminator+str(best_run_id)+'/generator_checkpoint.pt'))"
   ]
  },
  {
   "cell_type": "code",
   "execution_count": 35,
   "metadata": {},
   "outputs": [
    {
     "data": {
      "image/png": "[encoded data removed]",
      "text/plain": [
       "<Figure size 1152x360 with 4 Axes>"
      ]
     },
     "metadata": {
      "needs_background": "light"
     },
     "output_type": "display_data"
    }
   ],
   "source": [
    "fig, (ax1,ax2,ax3, axcb) = plt.subplots(1,4,figsize=(16,5), gridspec_kw={'width_ratios':[1,1,1,0.08]})\n",
    "ax1.get_shared_y_axes().join(ax2,ax3)\n",
    "cmap = sns.color_palette(\"mako_r\", as_cmap=True) \n",
    "vmin = np.min([np.min(results_ks[0]),np.min(results_ks[1]),np.min(results_ks[2])])\n",
    "vmax = np.max([np.max(results_ks[0]),np.max(results_ks[1]),np.max(results_ks[2])])\n",
    "\n",
    "for i in range(3):\n",
    "    if i==0:\n",
    "        sns.heatmap(results_ks[i],ax = ax1,cbar=False,vmin=vmin, vmax=vmax, cmap=cmap)\n",
    "        ax1.set_xlabel('time')\n",
    "        ax1.set_ylabel('price')\n",
    "        ax1.set_title('ID')\n",
    "    elif i==1:\n",
    "        sns.heatmap(results_ks[i],ax=ax2,cbar=False,vmin=vmin, vmax=vmax, cmap=cmap)\n",
    "        ax2.set_xlabel('time')\n",
    "        ax2.set_ylabel('price')\n",
    "        ax2.set_title('SQR')\n",
    "    else:\n",
    "        sns.heatmap(results_ks[i],ax=ax3, cbar_ax=axcb, vmin=vmin, vmax=vmax, cmap=cmap)\n",
    "        ax3.set_xlabel('time')\n",
    "        ax3.set_ylabel('price')\n",
    "        ax3.set_title('CEXP')\n",
    "plt.tight_layout()\n",
    "plt.savefig('lob.png',dpi=1000)\n",
    "plt.show()"
   ]
  }
 ],
 "metadata": {
  "kernelspec": {
   "display_name": "Python 3 (ipykernel)",
   "language": "python",
   "name": "python3"
  },
  "language_info": {
   "codemirror_mode": {
    "name": "ipython",
    "version": 3
   },
   "file_extension": ".py",
   "mimetype": "text/x-python",
   "name": "python",
   "nbconvert_exporter": "python",
   "pygments_lexer": "ipython3",
   "version": "3.9.13"
  }
 },
 "nbformat": 4,
 "nbformat_minor": 4
}
